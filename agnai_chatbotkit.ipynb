{
  "nbformat": 4,
  "nbformat_minor": 0,
  "metadata": {
    "colab": {
      "provenance": [],
      "authorship_tag": "ABX9TyPhXrL+Ai4Wid5qFfzg4Mkt",
      "include_colab_link": true
    },
    "kernelspec": {
      "name": "python3",
      "display_name": "Python 3"
    },
    "language_info": {
      "name": "python"
    }
  },
  "cells": [
    {
      "cell_type": "markdown",
      "metadata": {
        "id": "view-in-github",
        "colab_type": "text"
      },
      "source": [
        "<a href=\"https://colab.research.google.com/github/peppertaco/AI/blob/main/agnai_chatbotkit.ipynb\" target=\"_parent\"><img src=\"https://colab.research.google.com/assets/colab-badge.svg\" alt=\"Open In Colab\"/></a>"
      ]
    },
    {
      "cell_type": "markdown",
      "source": [
        "###AGN AI 챗봇킷 실행기###"
      ],
      "metadata": {
        "id": "qY1uoLP48kAe"
      }
    },
    {
      "cell_type": "code",
      "source": [
        "#@title Tap this if you play on Mobile { display-mode: \"form\" }\n",
        "#Taken from KoboldAI colab\n",
        "%%html\n",
        "<b>Press play on the music player to keep the tab alive, then start TavernAI below (Uses only 13MB of data)</b><br/>\n",
        "<audio src=\"https://henk.tech/colabkobold/silence.m4a\" controls>"
      ],
      "metadata": {
        "id": "sDTHqf_R8hTW"
      },
      "execution_count": null,
      "outputs": []
    },
    {
      "cell_type": "code",
      "execution_count": null,
      "metadata": {
        "cellView": "form",
        "id": "OuojzO2h4Rls"
      },
      "outputs": [],
      "source": [
        "#@title AGN AI\n",
        "#@markdown **<font color = red><--눌러 (≖ ‸ ≖ ✿)**\n",
        "!curl -o- https://raw.githubusercontent.com/nvm-sh/nvm/v0.37.2/install.sh | bash\n",
        "!nvm install 19.1.0\n",
        "!nvm use 19.1.0\n",
        "!node -v\n",
        "\n",
        "!git clone -b chatbotkit https://github.com/nai-degen/agn-ai\n",
        "\n",
        "%cd /content/agn-ai\n",
        "!npm install\n",
        "!npm run build:all\n",
        "!npm run start:public:win"
      ]
    }
  ]
}