{
  "nbformat": 4,
  "nbformat_minor": 0,
  "metadata": {
    "colab": {
      "provenance": [],
      "include_colab_link": true
    },
    "kernelspec": {
      "name": "python3",
      "display_name": "Python 3"
    },
    "language_info": {
      "name": "python"
    }
  },
  "cells": [
    {
      "cell_type": "markdown",
      "metadata": {
        "id": "view-in-github",
        "colab_type": "text"
      },
      "source": [
        "<a href=\"https://colab.research.google.com/github/peppertaco/AI/blob/main/Untitled2.ipynb\" target=\"_parent\"><img src=\"https://colab.research.google.com/assets/colab-badge.svg\" alt=\"Open In Colab\"/></a>"
      ]
    },
    {
      "cell_type": "code",
      "source": [
        "#@title Tap this if you play on Mobile { display-mode: \"form\" }\n",
        "#Taken from KoboldAI colab\n",
        "%%html\n",
        "<b>Press play on the music player to keep the tab alive, then start TavernAI below (Uses only 13MB of data)</b><br/>\n",
        "<audio src=\"https://henk.tech/colabkobold/silence.m4a\" controls>"
      ],
      "metadata": {
        "id": "Onilm28QNYoq",
        "outputId": "99f73a51-fbb9-409a-9cf5-0f375bee0d6b",
        "colab": {
          "base_uri": "https://localhost:8080/",
          "height": 92
        }
      },
      "execution_count": null,
      "outputs": [
        {
          "output_type": "display_data",
          "data": {
            "text/plain": [
              "<IPython.core.display.HTML object>"
            ],
            "text/html": [
              "<b>Press play on the music player to keep the tab alive, then start TavernAI below (Uses only 13MB of data)</b><br/>\n",
              "<audio src=\"https://henk.tech/colabkobold/silence.m4a\" controls>\n"
            ]
          },
          "metadata": {}
        }
      ]
    },
    {
      "cell_type": "code",
      "execution_count": null,
      "metadata": {
        "cellView": "form",
        "id": "wcS7_e3RIrXJ"
      },
      "outputs": [],
      "source": [
        "#@markdown - https://dashboard.ngrok.com/get-started/your-authtoken\n",
        "NGROK_token = \"\" #@param {type:\"string\"}\n",
        "use_google_drive = True #@param {type:\"boolean\"}\n",
        "from google.colab import drive\n",
        "\n",
        "!pip install pyngrok\n",
        "from pyngrok import ngrok\n",
        "!ngrok authtoken $NGROK_token\n",
        "!streamlit run app.py&>/dev/null&\n",
        "publ_url = ngrok.connect(addr = '5004')\n",
        "!npm install -g localtunnel\n",
        "\n",
        "import subprocess\n",
        "import time\n",
        "import sys\n",
        "import os\n",
        "import threading\n",
        "import shutil\n",
        "from google.colab import drive\n",
        "\n",
        "if use_google_drive:\n",
        "  drive.mount('/content/drive/')\n",
        "  if not os.path.exists(\"/content/drive/MyDrive/TavernAI/\"):\n",
        "    os.mkdir(\"/content/drive/MyDrive/TavernAI/\")\n",
        "  if not os.path.exists(\"/content/drive/MyDrive/TavernAI/characters/\"):\n",
        "    os.mkdir(\"/content/drive/MyDrive/TavernAI/characters/\")\n",
        "  if not os.path.exists(\"/content/drive/MyDrive/TavernAI/chats/\"):\n",
        "    os.mkdir(\"/content/drive/MyDrive/TavernAI/chats/\")\n",
        "else:\n",
        "  if not os.path.exists(\"/content/drive\"):\n",
        "    os.mkdir(\"/content/drive\")\n",
        "  if not os.path.exists(\"/content/drive/MyDrive/\"):\n",
        "    os.mkdir(\"/content/drive/MyDrive/\")\n",
        "\n",
        "def copy_characters(use_google_drive=False):\n",
        "  if not use_google_drive:\n",
        "    return\n",
        "  \n",
        "  src_folder = \"/TavernAIColab/public/characters\"\n",
        "  dst_folder = \"/content/drive/MyDrive/TavernAI/characters\"\n",
        "\n",
        "  for filename in os.listdir(src_folder):\n",
        "    src_file = os.path.join(src_folder, filename)\n",
        "    dst_file = os.path.join(dst_folder, filename)\n",
        "\n",
        "    if os.path.exists(dst_file):\n",
        "      print(f\"{dst_file} already exists. Skipping...\")\n",
        "      continue\n",
        "\n",
        "    shutil.copy(src_file, dst_folder)\n",
        "    print(f\"{src_file} copied to {dst_folder}\")\n",
        "\n",
        "%cd /\n",
        "!curl -o- https://raw.githubusercontent.com/nvm-sh/nvm/v0.37.2/install.sh | bash\n",
        "!nvm install 19.1.0\n",
        "!nvm use 19.1.0\n",
        "!node -v\n",
        "!git clone -b trash https://github.com/peppertaco/TavernAIColab  \n",
        "copy_characters(use_google_drive)\n",
        "%cd /content/drive/MyDrive/TavernAI/exe\n",
        "!chmod +x app-linux\n",
        "!nohup ./app-linux &\n",
        "%cd /TavernAIColab\n",
        "!npm install\n",
        "time.sleep(1)\n",
        "%env colab=2\n",
        "%env colaburl=$url\n",
        "if use_google_drive:\n",
        "  %env googledrive=2\n",
        "!nohup node server.js &\n",
        "time.sleep(3)\n",
        "print('')\n",
        "print('###KoboldAI API###')\n",
        "print(publ_url)\n",
        "print('')\n",
        "print('###TavernAI LINK###')\n",
        "!lt --port 8000"
      ]
    }
  ]
}