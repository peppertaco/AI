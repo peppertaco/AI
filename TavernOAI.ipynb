{
  "nbformat": 4,
  "nbformat_minor": 0,
  "metadata": {
    "colab": {
      "provenance": [],
      "include_colab_link": true
    },
    "kernelspec": {
      "name": "python3",
      "display_name": "Python 3"
    },
    "language_info": {
      "name": "python"
    }
  },
  "cells": [
    {
      "cell_type": "markdown",
      "metadata": {
        "id": "view-in-github",
        "colab_type": "text"
      },
      "source": [
        "<a href=\"https://colab.research.google.com/github/peppertaco/AI/blob/main/TavernOAI.ipynb\" target=\"_parent\"><img src=\"https://colab.research.google.com/assets/colab-badge.svg\" alt=\"Open In Colab\"/></a>"
      ]
    },
    {
      "cell_type": "markdown",
      "source": [
        "#OAI 태번 GPT 3.5 실행기"
      ],
      "metadata": {
        "id": "SbuwKBalZvFH"
      }
    },
    {
      "cell_type": "code",
      "source": [
        "#@title Tap this if you play on Mobile { display-mode: \"form\" }\n",
        "#Taken from KoboldAI colab\n",
        "%%html\n",
        "<b>Press play on the music player to keep the tab alive, then start TavernAI below (Uses only 13MB of data)</b><br/>\n",
        "<audio src=\"https://henk.tech/colabkobold/silence.m4a\" controls>"
      ],
      "metadata": {
        "colab": {
          "base_uri": "https://localhost:8080/",
          "height": 91
        },
        "id": "ZScVU8a6ZuXN",
        "outputId": "f4e4350a-7435-49c5-dae2-de0e1276e2e8"
      },
      "execution_count": null,
      "outputs": [
        {
          "output_type": "display_data",
          "data": {
            "text/plain": [
              "<IPython.core.display.HTML object>"
            ],
            "text/html": [
              "<b>Press play on the music player to keep the tab alive, then start TavernAI below (Uses only 13MB of data)</b><br/>\n",
              "<audio src=\"https://henk.tech/colabkobold/silence.m4a\" controls>\n"
            ]
          },
          "metadata": {}
        }
      ]
    },
    {
      "cell_type": "code",
      "execution_count": null,
      "metadata": {
        "id": "peng-woXZsh5",
        "cellView": "form"
      },
      "outputs": [],
      "source": [
        "#@title TavernAI\n",
        "#@markdown **<font color = red><--눌러 (≖ ‸ ≖ ✿)**\n",
        "#@markdown ###### ***옵션. NGROK 사용 ( 입력시 자동실행 )***\n",
        "#@markdown - loca.lt 링크가 안될 때 사용 \n",
        "#@markdown - https://dashboard.ngrok.com/get-started/your-authtoken\n",
        "NGROK_token = \"\" #@param {type:\"string\"}\n",
        "Model = \"v0.2\" #@param [\"1.3\", \"v0.2\", \"v0.35\"] {allow-input: false}\n",
        "use_google_drive = True #@param {type:\"boolean\"}\n",
        "!nvidia-smi\n",
        "!npm install -g localtunnel\n",
        "import subprocess\n",
        "import time\n",
        "import sys\n",
        "import os\n",
        "import threading\n",
        "import shutil\n",
        "from google.colab import drive\n",
        "\n",
        "if NGROK_token:\n",
        "  !pip install pyngrok\n",
        "  from pyngrok import ngrok\n",
        "  os.environ['NGROK_token'] = NGROK_token\n",
        "  !ngrok authtoken $NGROK_token\n",
        "  !streamlit run app.py&>/dev/null&\n",
        "  publ_url = ngrok.connect(addr = '8000')\n",
        "else:\n",
        "  publ_url = ''\n",
        "  print(\"NGROK 미사용\")\n",
        "    \n",
        "    \n",
        "if use_google_drive:\n",
        "  drive.mount('/content/drive/')\n",
        "  if not os.path.exists(\"/content/drive/MyDrive/TavernAI/\"):\n",
        "    os.mkdir(\"/content/drive/MyDrive/TavernAI/\")\n",
        "  if not os.path.exists(\"/content/drive/MyDrive/TavernAI/characters/\"):\n",
        "    os.mkdir(\"/content/drive/MyDrive/TavernAI/characters/\")\n",
        "  if not os.path.exists(\"/content/drive/MyDrive/TavernAI/chats/\"):\n",
        "    os.mkdir(\"/content/drive/MyDrive/TavernAI/chats/\")\n",
        "else:\n",
        "  if not os.path.exists(\"/content/drive\"):\n",
        "    os.mkdir(\"/content/drive\")\n",
        "  if not os.path.exists(\"/content/drive/MyDrive/\"):\n",
        "    os.mkdir(\"/content/drive/MyDrive/\")\n",
        "\n",
        "def copy_characters(use_google_drive=False):\n",
        "  if not use_google_drive:\n",
        "    return\n",
        "  \n",
        "  src_folder = \"/TavernAIColab/public/characters\"\n",
        "  dst_folder = \"/content/drive/MyDrive/TavernAI/characters\"\n",
        "\n",
        "  for filename in os.listdir(src_folder):\n",
        "    src_file = os.path.join(src_folder, filename)\n",
        "    dst_file = os.path.join(dst_folder, filename)\n",
        "\n",
        "    if os.path.exists(dst_file):\n",
        "      print(f\"{dst_file} already exists. Skipping...\")\n",
        "      continue\n",
        "\n",
        "    shutil.copy(src_file, dst_folder)\n",
        "    print(f\"{src_file} copied to {dst_folder}\")\n",
        "\n",
        "\n",
        "\n",
        "#TavernAI\n",
        "%cd /\n",
        "!curl -o- https://raw.githubusercontent.com/nvm-sh/nvm/v0.37.2/install.sh | bash\n",
        "!nvm install 19.1.0\n",
        "!nvm use 19.1.0\n",
        "!node -v\n",
        "if Model == \"1.3\":\n",
        "  !git clone https://github.com/TavernAI/TavernAIColab\n",
        "elif Model == \"v0.2\":\n",
        "  !git clone https://github.com/peppertaco/TavernAIColab\n",
        "elif Model == \"v0.35\":\n",
        "  !git clone -b new https://github.com/peppertaco/TavernAIColab\n",
        "copy_characters(use_google_drive)\n",
        "%cd TavernAIColab\n",
        "!npm install\n",
        "time.sleep(1)\n",
        "%env colab=2\n",
        "%env colaburl=$url\n",
        "if use_google_drive:\n",
        "  %env googledrive=2\n",
        "!nohup node server.js &\n",
        "time.sleep(3)\n",
        "print('')\n",
        "print('###TavernAI LINK###')\n",
        "print(publ_url)\n",
        "!lt --port 8000\n"
      ]
    }
  ]
}