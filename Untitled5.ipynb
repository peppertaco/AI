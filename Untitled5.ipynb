{
  "nbformat": 4,
  "nbformat_minor": 0,
  "metadata": {
    "colab": {
      "provenance": [],
      "authorship_tag": "ABX9TyMdvf30JMwTh4sYhVCFd3LT",
      "include_colab_link": true
    },
    "kernelspec": {
      "name": "python3",
      "display_name": "Python 3"
    },
    "language_info": {
      "name": "python"
    }
  },
  "cells": [
    {
      "cell_type": "markdown",
      "metadata": {
        "id": "view-in-github",
        "colab_type": "text"
      },
      "source": [
        "<a href=\"https://colab.research.google.com/github/peppertaco/AI/blob/main/Untitled5.ipynb\" target=\"_parent\"><img src=\"https://colab.research.google.com/assets/colab-badge.svg\" alt=\"Open In Colab\"/></a>"
      ]
    },
    {
      "cell_type": "markdown",
      "source": [
        "#몰루?"
      ],
      "metadata": {
        "id": "FxW5VE3dV3nH"
      }
    },
    {
      "cell_type": "code",
      "source": [
        "file = \"\\uAE09\\uC2DD.txt\" #@param {type:\"string\"}\n",
        "NGROK_token = \"ngrok\" #@param {type:\"string\"}\n",
        "spoon = file\n",
        "#@markdown - https://dashboard.ngrok.com/get-started/your-authtoken\n",
        "!pip install pyngrok\n",
        "from pyngrok import ngrok\n",
        "!ngrok authtoken $NGROK_token\n",
        "!streamlit run app.py&>/dev/null&\n",
        "publ_url = ngrok.connect(addr = '5004')\n",
        "\n",
        "!npm install -g localtunnel\n",
        "!curl -sL https://deb.nodesource.com/setup_19.x | sudo -E bash -\n",
        "!sudo apt-get install -y nodejs\n",
        "!node -v\n",
        "from google.colab import drive\n",
        "import shutil\n",
        "drive.mount('/content/drive/')\n",
        "%cd /content/drive/MyDrive/TavernAI/spoon\n",
        "!nohup node $spoon &\n",
        "print(publ_url)\n",
        "!nohup lt --port 5004"
      ],
      "metadata": {
        "cellView": "form",
        "id": "e373ASkaSy-o"
      },
      "execution_count": null,
      "outputs": []
    }
  ]
}