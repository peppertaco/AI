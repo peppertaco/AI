{
  "nbformat": 4,
  "nbformat_minor": 0,
  "metadata": {
    "colab": {
      "provenance": [],
      "authorship_tag": "ABX9TyPhCoiGc35dx8fmXdwLpA+M",
      "include_colab_link": true
    },
    "kernelspec": {
      "name": "python3",
      "display_name": "Python 3"
    },
    "language_info": {
      "name": "python"
    }
  },
  "cells": [
    {
      "cell_type": "markdown",
      "metadata": {
        "id": "view-in-github",
        "colab_type": "text"
      },
      "source": [
        "<a href=\"https://colab.research.google.com/github/peppertaco/AI/blob/main/node.ipynb\" target=\"_parent\"><img src=\"https://colab.research.google.com/assets/colab-badge.svg\" alt=\"Open In Colab\"/></a>"
      ]
    },
    {
      "cell_type": "markdown",
      "source": [
        "#NODE 실행기\n",
        "\n",
        "<table style=\"width: 100%;\">\n",
        "\t<tbody>\n",
        "\t\t<tr>\n",
        "\t\t\t<td style=\"width: 50.0000%;\">1번 셀 파일 경로<br>TavernAI\\spoon\\급식.js<br>\n",
        "<img src = \"https://files.catbox.moe/pi9jnj.webp\" width=\"300\" height=\"200\">\n",
        "<br></td>\n",
        "\t\t\t<td style=\"width: 50.0000%;\">2번 셀 파일 경로<br>\n",
        "TavernAI\\spoon\\claude\\main.js<br>\n",
        "<img src = \"https://files.catbox.moe/j2mlp3.png\" width=\"400\" height=\"200\">\n",
        "<br></td>\n",
        "\t\t</tr>\n",
        "\t</tbody>\n",
        "</table>\n",
        "\n",
        "\n",
        "\n"
      ],
      "metadata": {
        "id": "FxW5VE3dV3nH"
      }
    },
    {
      "cell_type": "code",
      "source": [
        "#@title <font color = \"red\"> ▼모바일 사용 시 미디어를 재생시켜 놓으세요</font> { display-mode: \"form\" }\n",
        "\n",
        "%%html\n",
        "<b>Press play on the music player to keep the tab alive, then start TavernAI below (Uses only 13MB of data)</b><br/>\n",
        "<audio src=\"https://henk.tech/colabkobold/silence.m4a\" controls>"
      ],
      "metadata": {
        "id": "jFGui39l9K2P"
      },
      "execution_count": null,
      "outputs": []
    },
    {
      "cell_type": "code",
      "source": [
        "#@title <font color = \"red\">1번 셀\n",
        "\n",
        "file = \"\\uAE09\\uC2DD.js\" #@param {type:\"string\"}\n",
        "\n",
        "#@markdown ---\n",
        "#@markdown - <font color = \"red\"> 옵션. ngrok 미입력시 cloudflare 링크 이용\n",
        "\n",
        "NGROK_token = \"\" #@param {type:\"string\"}\n",
        "spoon = file\n",
        "port = 5004\n",
        "\n",
        "#@markdown - https://dashboard.ngrok.com/get-started/your-authtoken\n",
        "#@markdown - ngrok 입력 없이도 사용가능\n",
        "\n",
        "from google.colab import drive\n",
        "drive.mount('/content/drive/')\n",
        "\n",
        "if NGROK_token:\n",
        "  !pip install pyngrok\n",
        "  from pyngrok import ngrok\n",
        "  os.environ['NGROK_token'] = NGROK_token\n",
        "  !ngrok authtoken $NGROK_token\n",
        "  !streamlit run app.py&>/dev/null&\n",
        "  publ_url = ngrok.connect(addr = '5004')\n",
        "else:\n",
        "  publ_url = ''\n",
        "  print(\"NGROK 미사용, cloudflare 링크를 사용하세요\")\n",
        "  !pip install flask-cloudflared\n",
        "\n",
        "!npm install -g localtunnel\n",
        "!curl -sL https://deb.nodesource.com/setup_19.x | sudo -E bash -\n",
        "!sudo apt-get install -y nodejs\n",
        "!node -v\n",
        "\n",
        "%cd /content/drive/MyDrive/TavernAI/spoon\n",
        "!nohup node $spoon &\n",
        "\n",
        "from flask_cloudflared import _run_cloudflared\n",
        "from random import randint\n",
        "metrics_port = randint(8100, 9000)\n",
        "cloudflare = _run_cloudflared(port, metrics_port)\n",
        "\n",
        "print(\"Your proxy url : \", cloudflare)\n",
        "print(publ_url)\n",
        "\n",
        "!nohup lt --port 5004"
      ],
      "metadata": {
        "cellView": "form",
        "id": "e373ASkaSy-o"
      },
      "execution_count": null,
      "outputs": []
    },
    {
      "cell_type": "code",
      "source": [
        "#@title <font color = \"red\">2번 셀\n",
        "file = \"main.js\" #@param {type:\"string\"}\n",
        "\n",
        "#@markdown ---\n",
        "#@markdown - <font color = \"red\"> 옵션. ngrok 미입력시 cloudflare 링크 이용\n",
        "\n",
        "NGROK_token = \"\" #@param {type:\"string\"}\n",
        "spoon = file\n",
        "port = 5004\n",
        "\n",
        "#@markdown - https://dashboard.ngrok.com/get-started/your-authtoken\n",
        "#@markdown - ngrok 입력 없이도 사용가능\n",
        "\n",
        "from google.colab import drive\n",
        "drive.mount('/content/drive/')\n",
        "\n",
        "if NGROK_token:\n",
        "  !pip install pyngrok\n",
        "  from pyngrok import ngrok\n",
        "  os.environ['NGROK_token'] = NGROK_token\n",
        "  !ngrok authtoken $NGROK_token\n",
        "  !streamlit run app.py&>/dev/null&\n",
        "  publ_url = ngrok.connect(addr = '5004')\n",
        "else:\n",
        "  publ_url = ''\n",
        "  print(\"NGROK 미사용, cloudflare 링크를 사용하세요\")\n",
        "  !pip install flask-cloudflared\n",
        "\n",
        "!npm install -g localtunnel\n",
        "!curl -sL https://deb.nodesource.com/setup_19.x | sudo -E bash -\n",
        "!sudo apt-get install -y nodejs\n",
        "!node -v\n",
        "\n",
        "%cd /content/drive/MyDrive/TavernAI/spoon/claude\n",
        "!npm install\n",
        "!nohup node $spoon &\n",
        "\n",
        "from flask_cloudflared import _run_cloudflared\n",
        "from random import randint\n",
        "metrics_port = randint(8100, 9000)\n",
        "cloudflare = _run_cloudflared(port, metrics_port)\n",
        "\n",
        "print(\"Your proxy url : \", cloudflare)\n",
        "print(publ_url)\n",
        "\n",
        "!nohup lt --port 5004"
      ],
      "metadata": {
        "cellView": "form",
        "id": "1eSjG1X_cGEC"
      },
      "execution_count": null,
      "outputs": []
    }
  ]
}