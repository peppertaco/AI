{
  "nbformat": 4,
  "nbformat_minor": 0,
  "metadata": {
    "colab": {
      "provenance": [],
      "authorship_tag": "ABX9TyOSowiYhkXLE7j1z/eeHNCq",
      "include_colab_link": true
    },
    "kernelspec": {
      "name": "python3",
      "display_name": "Python 3"
    },
    "language_info": {
      "name": "python"
    }
  },
  "cells": [
    {
      "cell_type": "markdown",
      "metadata": {
        "id": "view-in-github",
        "colab_type": "text"
      },
      "source": [
        "<a href=\"https://colab.research.google.com/github/peppertaco/AI/blob/main/node.ipynb\" target=\"_parent\"><img src=\"https://colab.research.google.com/assets/colab-badge.svg\" alt=\"Open In Colab\"/></a>"
      ]
    },
    {
      "cell_type": "markdown",
      "source": [
        "#NODE 실행기"
      ],
      "metadata": {
        "id": "FxW5VE3dV3nH"
      }
    },
    {
      "cell_type": "code",
      "source": [
        "#@title ▼모바일 사용 시 미디어를 재생시켜 놓으세요 { display-mode: \"form\" }\n",
        "\n",
        "%%html\n",
        "<b>Press play on the music player to keep the tab alive, then start TavernAI below (Uses only 13MB of data)</b><br/>\n",
        "<audio src=\"https://henk.tech/colabkobold/silence.m4a\" controls>"
      ],
      "metadata": {
        "id": "jFGui39l9K2P"
      },
      "execution_count": null,
      "outputs": []
    },
    {
      "cell_type": "code",
      "source": [
        "#@title 1번 셀\n",
        "file = \"\\uAE09\\uC2DD.txt\" #@param {type:\"string\"}\n",
        "NGROK_token = \"\" #@param {type:\"string\"}\n",
        "spoon = file\n",
        "#@markdown - https://dashboard.ngrok.com/get-started/your-authtoken\n",
        "!pip install pyngrok\n",
        "from pyngrok import ngrok\n",
        "!ngrok authtoken $NGROK_token\n",
        "!streamlit run app.py&>/dev/null&\n",
        "publ_url = ngrok.connect(addr = '5004')\n",
        "\n",
        "!npm install -g localtunnel\n",
        "!curl -sL https://deb.nodesource.com/setup_19.x | sudo -E bash -\n",
        "!sudo apt-get install -y nodejs\n",
        "!node -v\n",
        "from google.colab import drive\n",
        "import shutil\n",
        "drive.mount('/content/drive/')\n",
        "%cd /content/drive/MyDrive/TavernAI/spoon\n",
        "!nohup node $spoon &\n",
        "print(publ_url)\n",
        "!nohup lt --port 5004"
      ],
      "metadata": {
        "cellView": "form",
        "id": "e373ASkaSy-o"
      },
      "execution_count": null,
      "outputs": []
    },
    {
      "cell_type": "markdown",
      "source": [
        "1번 셀 파일 경로<br>\n",
        "TavernAI\\spoon\\급식.txt<br>\n",
        "<img src = \"https://files.catbox.moe/pi9jnj.webp\" width=\"300\" height=\"200\">"
      ],
      "metadata": {
        "id": "bPOrf_MFm3HW"
      }
    },
    {
      "cell_type": "code",
      "source": [
        "#@title 2번 셀\n",
        "file = \"main.js\" #@param {type:\"string\"}\n",
        "NGROK_token = \"\" #@param {type:\"string\"}\n",
        "spoon = file\n",
        "#@markdown - https://dashboard.ngrok.com/get-started/your-authtoken\n",
        "!pip install pyngrok\n",
        "from pyngrok import ngrok\n",
        "!ngrok authtoken $NGROK_token\n",
        "!streamlit run app.py&>/dev/null&\n",
        "publ_url = ngrok.connect(addr = '5004')\n",
        "\n",
        "!npm install -g localtunnel\n",
        "!curl -sL https://deb.nodesource.com/setup_19.x | sudo -E bash -\n",
        "!sudo apt-get install -y nodejs\n",
        "!node -v\n",
        "from google.colab import drive\n",
        "import shutil\n",
        "drive.mount('/content/drive/')\n",
        "%cd /content/drive/MyDrive/TavernAI/spoon/claude\n",
        "!npm install\n",
        "!nohup node $spoon &\n",
        "print(publ_url)\n",
        "!nohup lt --port 5004"
      ],
      "metadata": {
        "cellView": "form",
        "id": "1eSjG1X_cGEC"
      },
      "execution_count": null,
      "outputs": []
    },
    {
      "cell_type": "markdown",
      "source": [
        "2번 셀 파일 경로<br>\n",
        "TavernAI\\spoon\\claude\\main.js<br>\n",
        "<img src = \"https://files.catbox.moe/falbcn.png\" width=\"300\" height=\"200\">"
      ],
      "metadata": {
        "id": "cOUji8YkgGyh"
      }
    }
  ]
}